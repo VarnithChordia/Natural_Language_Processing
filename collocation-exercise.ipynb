{
 "cells": [
  {
   "cell_type": "markdown",
   "metadata": {},
   "source": [
    "## NLP lecture 4, comprehension exercises for bigrams and collocations\n",
    "\n",
    "\n",
    "\n",
    "In class, we saw that [collocations][1] are a useful construct for thinking about word senses, but we didn't really get to look in detail at how collocations can be found and what they look like.  You can find [general discussions of English collocations][2] but it's more interesting to look at how to code up a collocation finder and look at the results.  This notebook fills in the gap.\n",
    "\n",
    "[1]:https://en.wikipedia.org/wiki/Collocation\n",
    "[2]:https://en.wikipedia.org/wiki/English_collocations\n",
    "\n",
    "This uses the [nltk collocation tools, which are explained in this how-to page][3].\n",
    "\n",
    "[3]:http://www.nltk.org/howto/collocations.html"
   ]
  },
  {
   "cell_type": "code",
   "execution_count": 1,
   "metadata": {
    "collapsed": true
   },
   "outputs": [],
   "source": [
    "from __future__ import print_function\n",
    "import os\n",
    "import nltk\n",
    "import operator"
   ]
  },
  {
   "cell_type": "markdown",
   "metadata": {},
   "source": [
    "I think an easy and convenient way to get started is to pick some text that you are interested in, and use the variable `words` to store a list of the (occurrences in order) of words in the text.  As always, nltk comes with [a variety of text corpora that are easy to access][1], and you can pick one of those.  You can also visit [Project Gutenberg][2] or any other place you're interested in.\n",
    "\n",
    "[1]:http://www.nltk.org/book/ch02.html\n",
    "[2]:http://www.gutenberg.org/"
   ]
  },
  {
   "cell_type": "code",
   "execution_count": 2,
   "metadata": {},
   "outputs": [
    {
     "data": {
      "text/plain": [
       "86063"
      ]
     },
     "execution_count": 2,
     "metadata": {},
     "output_type": "execute_result"
    }
   ],
   "source": [
    "words=nltk.corpus.gutenberg.words('chesterton-brown.txt')\n",
    "len(words)"
   ]
  },
  {
   "cell_type": "markdown",
   "metadata": {},
   "source": [
    "Once you have your data, the code below will consider bigrams that occur at least 10 times in your corpus and will print out the top 50 bigram collocations, as measured by [pointwise mutual information.][1]\n",
    "\n",
    "[1]:https://en.wikipedia.org/wiki/Pointwise_mutual_information\n",
    "\n"
   ]
  },
  {
   "cell_type": "code",
   "execution_count": 3,
   "metadata": {
    "collapsed": true
   },
   "outputs": [],
   "source": [
    "if words :\n",
    "    bigram_measures = nltk.collocations.BigramAssocMeasures()\n",
    "    word_fd = nltk.FreqDist(words)\n",
    "    bigram_fd = nltk.FreqDist(nltk.bigrams(words))\n",
    "    finder = nltk.collocations.BigramCollocationFinder(word_fd, bigram_fd)\n",
    "    finder.apply_freq_filter(10)\n",
    "    finder.nbest(bigram_measures.pmi, 50)"
   ]
  },
  {
   "cell_type": "code",
   "execution_count": 10,
   "metadata": {},
   "outputs": [
    {
     "data": {
      "text/plain": [
       "[('the', 4321),\n",
       " (',', 4069),\n",
       " ('.', 2784),\n",
       " ('of', 2087),\n",
       " ('and', 2074),\n",
       " ('a', 2074),\n",
       " ('\"', 1461),\n",
       " ('to', 1378),\n",
       " ('in', 1205),\n",
       " ('was', 1141),\n",
       " ('I', 1093),\n",
       " ('he', 1047),\n",
       " (\"'\", 924),\n",
       " ('his', 907),\n",
       " ('that', 880),\n",
       " ('it', 796),\n",
       " (';', 764),\n",
       " ('with', 726),\n",
       " ('you', 586),\n",
       " ('as', 585),\n",
       " ('-', 573),\n",
       " ('had', 521),\n",
       " (',\"', 520),\n",
       " ('but', 487),\n",
       " ('on', 456),\n",
       " ('is', 450),\n",
       " ('.\"', 444),\n",
       " ('s', 438),\n",
       " ('at', 416),\n",
       " ('said', 415),\n",
       " ('for', 387),\n",
       " ('him', 376),\n",
       " ('The', 346),\n",
       " ('like', 328),\n",
       " ('not', 313),\n",
       " ('He', 310),\n",
       " ('be', 305),\n",
       " ('man', 303),\n",
       " ('t', 296),\n",
       " ('or', 287),\n",
       " ('have', 283),\n",
       " ('one', 264),\n",
       " ('Brown', 261),\n",
       " ('by', 259),\n",
       " ('this', 254),\n",
       " ('all', 253),\n",
       " ('?\"', 248),\n",
       " ('which', 240),\n",
       " ('were', 240),\n",
       " ('an', 236)]"
      ]
     },
     "execution_count": 10,
     "metadata": {},
     "output_type": "execute_result"
    }
   ],
   "source": [
    "sorted_words=sorted(nltk.FreqDist(words).items(),key=operator.itemgetter(1),reverse=True)\n",
    "sorted_words[:50]"
   ]
  },
  {
   "cell_type": "code",
   "execution_count": 9,
   "metadata": {},
   "outputs": [
    {
     "data": {
      "text/plain": [
       "[('and', 'youthful'),\n",
       " ('This', 'youth'),\n",
       " ('his', 'youth'),\n",
       " ('in', 'youth'),\n",
       " ('early', 'youth'),\n",
       " ('the', 'youth'),\n",
       " ('dissipated', 'youth'),\n",
       " ('hurt', 'yourselves'),\n",
       " ('hang', 'yourselves'),\n",
       " ('violent', 'yourself'),\n",
       " ('about', 'yourself'),\n",
       " ('call', 'yourself'),\n",
       " ('Explain', 'yourself'),\n",
       " ('offer', 'yourself'),\n",
       " ('was', 'yourself'),\n",
       " ('of', 'yourself'),\n",
       " ('all', 'yourself'),\n",
       " ('you', 'yourself'),\n",
       " ('proved', 'yourself'),\n",
       " ('of', 'yours'),\n",
       " ('Not', 'yours'),\n",
       " ('me', 'your'),\n",
       " ('whom', 'your'),\n",
       " ('and', 'your'),\n",
       " ('with', 'your'),\n",
       " ('putting', 'your'),\n",
       " ('compose', 'your'),\n",
       " ('till', 'your'),\n",
       " ('is', 'your'),\n",
       " ('of', 'your'),\n",
       " ('never', 'your'),\n",
       " ('not', 'your'),\n",
       " ('have', 'your'),\n",
       " ('Is', 'your'),\n",
       " ('as', 'your'),\n",
       " ('\"', 'your'),\n",
       " ('all', 'your'),\n",
       " ('be', 'your'),\n",
       " ('to', 'your'),\n",
       " ('know', 'your'),\n",
       " ('did', 'your'),\n",
       " ('observe', 'your'),\n",
       " ('from', 'your'),\n",
       " ('force', 'your'),\n",
       " ('in', 'your'),\n",
       " ('at', 'your'),\n",
       " ('see', 'your'),\n",
       " ('keep', 'your'),\n",
       " ('off', 'your'),\n",
       " ('entreat', 'your')]"
      ]
     },
     "execution_count": 9,
     "metadata": {},
     "output_type": "execute_result"
    }
   ],
   "source": [
    "sorted(nltk.FreqDist(nltk.bigrams(words)),key=operator.itemgetter(1),reverse=True)[:50]"
   ]
  },
  {
   "cell_type": "code",
   "execution_count": 8,
   "metadata": {},
   "outputs": [
    {
     "data": {
      "text/plain": [
       "[('Wilson', 'Seymour'),\n",
       " ('Sir', 'Claude'),\n",
       " ('Sir', 'Wilson'),\n",
       " ('Captain', 'Cutler'),\n",
       " ('Dr', 'Hood'),\n",
       " ('Mrs', 'Boulnois'),\n",
       " ('Mr', 'Glass'),\n",
       " ('Mr', 'Todhunter'),\n",
       " ('Father', 'Brown'),\n",
       " ('sat', 'down'),\n",
       " ('!\"', 'cried'),\n",
       " ('?\"', 'asked'),\n",
       " ('my', 'brother'),\n",
       " (',\"', 'replied'),\n",
       " ('-', 'haired'),\n",
       " ('dressing', '-'),\n",
       " ('at', 'least'),\n",
       " ('other', 'end'),\n",
       " (',\"', 'answered'),\n",
       " ('an', 'instant'),\n",
       " ('Do', 'you'),\n",
       " ('has', 'been'),\n",
       " ('What', 'do'),\n",
       " ('two', 'men'),\n",
       " (':', '`'),\n",
       " ('once', 'more'),\n",
       " ('did', 'not'),\n",
       " ('cried', 'Flambeau'),\n",
       " ('little', 'priest'),\n",
       " ('might', 'have'),\n",
       " (\"'\", 's'),\n",
       " (\"'\", 'd'),\n",
       " (\"'\", 'm'),\n",
       " ('wouldn', \"'\"),\n",
       " (\"'\", 've'),\n",
       " ('didn', \"'\"),\n",
       " ('don', \"'\"),\n",
       " ('won', \"'\"),\n",
       " (\"'\", 'll'),\n",
       " ('couldn', \"'\"),\n",
       " ('doesn', \"'\"),\n",
       " ('isn', \"'\"),\n",
       " (\"'\", 't'),\n",
       " ('must', 'be'),\n",
       " ('Don', \"'\"),\n",
       " ('came', 'out'),\n",
       " (\"'\", 're'),\n",
       " ('after', 'all'),\n",
       " ('so', 'much'),\n",
       " (',\"', 'said')]"
      ]
     },
     "execution_count": 8,
     "metadata": {},
     "output_type": "execute_result"
    }
   ],
   "source": [
    "finder = nltk.collocations.BigramCollocationFinder(word_fd, bigram_fd)\n",
    "finder.apply_freq_filter(10)\n",
    "finder.nbest(bigram_measures.pmi, 50)"
   ]
  },
  {
   "cell_type": "markdown",
   "metadata": {},
   "source": [
    "Comment on the collocations that you find in your list.  In particular, some of the collocations are likely:\n",
    "\n",
    "- Two word names (give your examples)\n",
    "- Specialized concepts that happen to be written with two words (give your examples)\n",
    "- Fixed expressions that are basically idiomatic (give your examples)\n",
    "- \"True collocations\" where you see pairs of words frequently used together in particular senses (give your examples)\n",
    "\n",
    "Are there other patterns that you find?  Which of these are likely to be important for text categorization?  How about for doing disambiguation?  How about for recognizing the meaning of a text?"
   ]
  },
  {
   "cell_type": "markdown",
   "metadata": {},
   "source": [
    "For this analysis I have used the coprus document of 'Chester Brown' from the Nltk package. Bigram collocation finder measures some of the  names or titles associated with names as ones with high measure. Example of this are  \n",
    "**[('Wilson', 'Seymour'),('Sir', 'Claude'),('Sir', 'Wilson')].** \n",
    "\n",
    "A very interesting that could be noticed was the use of punctuations and  verbs ensuing it. Examples are \n",
    "**[ ('!\"', 'cried'), ('?\"', 'asked'), (',\"', 'said')].**\n",
    "\n"
   ]
  },
  {
   "cell_type": "code",
   "execution_count": null,
   "metadata": {
    "collapsed": true
   },
   "outputs": [],
   "source": []
  }
 ],
 "metadata": {
  "anaconda-cloud": {},
  "kernelspec": {
   "display_name": "Python 3",
   "language": "python",
   "name": "python3"
  },
  "language_info": {
   "codemirror_mode": {
    "name": "ipython",
    "version": 3
   },
   "file_extension": ".py",
   "mimetype": "text/x-python",
   "name": "python",
   "nbconvert_exporter": "python",
   "pygments_lexer": "ipython3",
   "version": "3.6.1"
  }
 },
 "nbformat": 4,
 "nbformat_minor": 2
}
