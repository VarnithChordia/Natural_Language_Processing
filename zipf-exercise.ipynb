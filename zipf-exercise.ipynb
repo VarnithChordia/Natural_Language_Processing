{
 "cells": [
  {
   "cell_type": "markdown",
   "metadata": {},
   "source": [
    "## NLP lecture 2, comprehension exercises for word distributions\n",
    "\n",
    "Matthew Stone\n",
    "Initial version, Spring 2018\n",
    "\n",
    "[Zipf's Law][1] offers an appealing way to visualize and quantify the skewed distribution of very frequent events and very rare events in linguistic data (and many other kinds of data).\n",
    "\n",
    "The setup for this exercise recapitulates the visualization tools that we saw in class for exploring Zipf's Law.\n",
    "\n",
    "[1]:https://en.wikipedia.org/wiki/Zipf%27s_law"
   ]
  },
  {
   "cell_type": "code",
   "execution_count": 33,
   "metadata": {
    "collapsed": true
   },
   "outputs": [],
   "source": [
    "from __future__ import print_function \n",
    "import math\n",
    "import nltk\n",
    "import powerlaw\n",
    "import collections\n",
    "import numpy\n",
    "import matplotlib.pyplot as plt\n",
    "import scipy.stats as ss\n",
    "import csv\n",
    "import pandas as pd\n",
    "import os\n",
    "import numpy as np\n",
    "from collections import Counter\n",
    "%matplotlib inline\n",
    "_  = numpy.seterr(divide='ignore', invalid='ignore')"
   ]
  },
  {
   "cell_type": "markdown",
   "metadata": {},
   "source": [
    "This visualization includes a mode with interactive visualizations with the `plotly` package. They are pretty rewarding, I find, but they are also a little bit slow, because they basically pack a complete corpus into the javascript in the browser. Use them if you like them."
   ]
  },
  {
   "cell_type": "code",
   "execution_count": 2,
   "metadata": {},
   "outputs": [
    {
     "data": {
      "text/html": [
       "<script>requirejs.config({paths: { 'plotly': ['https://cdn.plot.ly/plotly-latest.min']},});if(!window.Plotly) {{require(['plotly'],function(plotly) {window.Plotly=plotly;});}}</script>"
      ],
      "text/vnd.plotly.v1+html": [
       "<script>requirejs.config({paths: { 'plotly': ['https://cdn.plot.ly/plotly-latest.min']},});if(!window.Plotly) {{require(['plotly'],function(plotly) {window.Plotly=plotly;});}}</script>"
      ]
     },
     "metadata": {},
     "output_type": "display_data"
    }
   ],
   "source": [
    "use_plotly = True\n",
    "if use_plotly:\n",
    "    import plotly\n",
    "    import plotly.plotly as py\n",
    "    import plotly.graph_objs as go\n",
    "    plotly.offline.init_notebook_mode(connected=True)"
   ]
  },
  {
   "cell_type": "markdown",
   "metadata": {},
   "source": [
    "We are going to be doing the same computations to visualize the applicability of Zipf's law to a range of data sets, so we create a class Zipf to organize this functionality.\n",
    "\n",
    "The classic way to visualize Zipf's law is with a scatter plot on a log-log scale. Each item is plotted as a dot at a position  (x,y)(x,y) , where  xx  is its rank (from most common to least common) and  yy  is its actual frequency. Mathematically, you can tell that the data on this kind of scatter plot will all lie on a monotonically decreasing curve: by definition lower ranked entities are more common. However, Zipf's law is reflected in the fact that the curve for linguistic data tends to have a particular shape. In fact, the bulk of the data falls on a line. We'll explain this through examples below. The graph method of a Zipf object displays this graph.\n",
    "\n",
    "A bunch of other code snippets can be used to help explore a Zipf object z:\n",
    "\n",
    "- `z.singletons()` a generator function that lists items that occur once in the data set\n",
    "- `z.n_items_with_rate(k)` count the number of items in the data set that occur k times\n",
    "- `z.rates.most_common(k)` get a list of the k most common items in the data set\n",
    "- `z.corr` a matrix giving the correlation coefficient of ranks against log frequencies, typically showing that rank predicts a very large amount of the variance in log frequency.\n",
    "- `z.describe_singletons()` gives a summary of the frequency of rare events.\n",
    "\n",
    "To create a `Zipf` object, pass in two arguments: `name` (for labeling graphs), and `rates` (a counter, dictionary or similar structure that associates items with numeric values). The initialization uses the `rankdata` function of scipy to order the items (and reverses the ranks since rankdata goes from lowest to highest), and computes the correlation coefficient. It stores all the results of its computations for later inspection."
   ]
  },
  {
   "cell_type": "code",
   "execution_count": 30,
   "metadata": {
    "collapsed": true
   },
   "outputs": [],
   "source": [
    "class Zipf(object):\n",
    "    \"\"\"\n",
    "    Zipf's law data structure \n",
    "    Visualizes the rank-frequency distribution of discrete data\n",
    "    \"\"\"\n",
    "    def __init__(self, name, rates):\n",
    "        self.name = name\n",
    "        self.rates = rates\n",
    "        lowest_to_highest = ss.rankdata([c for (i,c) in rates.items()])\n",
    "        self.size = len(lowest_to_highest)\n",
    "        self.ranks = [self.size - r + 1 for r in lowest_to_highest]\n",
    "        self.rate_data = [c for (i,c) in rates.items()]\n",
    "        self.labels = [i for (i,c) in rates.items()]\n",
    "        self.log_data = [math.log(c) for c in self.rate_data]\n",
    "        self.corr = numpy.corrcoef(self.ranks, self.log_data)\n",
    "        \n",
    "    def graph(self):\n",
    "        plt.figure()\n",
    "        plt.plot(self.ranks, self.rate_data, 'ro')\n",
    "        plt.xscale('log')\n",
    "        plt.xlabel('Frequency rank of item')\n",
    "        plt.yscale('log')\n",
    "        plt.ylabel('Number of tokens of item')\n",
    "        plt.title('Rank-frequency distribution for {}'.format(self.name))\n",
    "\n",
    "    def graphly(self):\n",
    "        plotly.offline.iplot(dict(data=[go.Scatter(x=self.ranks,\n",
    "                                                   y=self.rate_data,\n",
    "                                                   mode='markers',\n",
    "                                                   text=self.labels, \n",
    "                                                   hoverinfo=\"text\")],\n",
    "                                  layout=dict(title=u'Rank-frequency distribution for {}'.format(self.name),\n",
    "                                              xaxis=dict(type='log', title='Frequency rank of item'),\n",
    "                                              yaxis=dict(type='log', title='Number of tokens of item'))))\n",
    "            \n",
    "\n",
    "    def show(self) :\n",
    "        if use_plotly :\n",
    "            self.graphly()\n",
    "        else :\n",
    "            self.graph()\n",
    "            \n",
    "    def singletons(self):\n",
    "        for (i, c) in self.rates.items():\n",
    "            if c == 1 :\n",
    "                yield i\n",
    "    \n",
    "    def n_items_with_rate(self, rate):\n",
    "        return sum(1 for (i, c) in self.rates.iteritems() if c == rate)\n",
    "    \n",
    "    def describe_singletons(self):\n",
    "        print('In {}, {} of {} tokens are singletons.'.format(self.name, \n",
    "                                                              self.n_items_with_rate(1),\n",
    "                                                              self.size))"
   ]
  },
  {
   "cell_type": "markdown",
   "metadata": {},
   "source": [
    "## Basic Implementation\n",
    "\n",
    "Find a data set that you're curious about that you think very probably has a Zipf distribution.  Visualize it and see if your hunch is correct.\n",
    "\n",
    "More precisely, you will have to:\n",
    "- Load and process the data as necessary to create a counter data structure mapping items to counts.\n",
    "- Create a Zipf object with based on the counter data structure you have provided.\n",
    "- Call show() on the resulting object.\n",
    "\n",
    "Useful sources of data include:\n",
    "- [Aaron Clauset's archive of power law data sets][1]\n",
    "- [Project Gutenberg, the premier source of copyright free electronic text][2]\n",
    "- [US Baby Names][3]   \n",
    "\n",
    "\n",
    "\n",
    "[1]:http://tuvalu.santafe.edu/~aaronc/powerlaws/data.htm\n",
    "[2]:https://www.gutenberg.org/\n",
    "[3]:https://www.ssa.gov/oact/babynames/limits.html"
   ]
  },
  {
   "cell_type": "code",
   "execution_count": 31,
   "metadata": {},
   "outputs": [],
   "source": [
    "path=\"D://Rutgers//4th-Semester//Natural_Language_Processing//Assignments//Babynames\"\n",
    "final_name_list=[]\n",
    "for file  in os.listdir(path):\n",
    "    if file.endswith(\".txt\"):\n",
    "        file_path=os.path.join(path+\"//\",file)\n",
    "        with open(file_path,\"r\") as f:\n",
    "            for line in f:\n",
    "                 final_name_list.append(line.split(\",\")[0])"
   ]
  },
  {
   "cell_type": "code",
   "execution_count": 46,
   "metadata": {},
   "outputs": [],
   "source": [
    "names_dict = dict()\n",
    "for i in final_name_list:\n",
    "    names_dict[i] = names_dict.get(i, 0) + 1"
   ]
  },
  {
   "cell_type": "code",
   "execution_count": 50,
   "metadata": {},
   "outputs": [
    {
     "data": {
      "image/png": "[encoded data removed]",
      "text/plain": [
       "<matplotlib.figure.Figure at 0x22886823be0>"
      ]
     },
     "metadata": {},
     "output_type": "display_data"
    }
   ],
   "source": [
    "zip_law=Zipf('test',names_dict)\n",
    "zip_law.graph()"
   ]
  },
  {
   "cell_type": "markdown",
   "metadata": {},
   "source": [
    "## Advanced Analysis\n",
    "\n",
    "Apply the statistical tests available in the `powerlaw` package to test how well the data set you have visualized actually fits a power law distribtuion, compared to other heavy tailed distributions.  Use the notebook cells below to carry out and record your analysis (in the code cell) and to summarize and interpret your findings (in the markdown cell)."
   ]
  },
  {
   "cell_type": "code",
   "execution_count": 67,
   "metadata": {
    "scrolled": true
   },
   "outputs": [
    {
     "name": "stderr",
     "output_type": "stream",
     "text": [
      "Calculating best minimal value for power law fit\n"
     ]
    },
    {
     "name": "stdout",
     "output_type": "stream",
     "text": [
      "2.55113005280206\n",
      "0.012262759784979383\n",
      "0.06057215776141567\n"
     ]
    }
   ],
   "source": [
    "data=[values for values in sorted(names_dict.values())]\n",
    "results=powerlaw.Fit(data)\n",
    "print(results.power_law.alpha) \n",
    "print(results.power_law.sigma)\n",
    "print(results.D)\n",
    "R, p = results.distribution_compare('power_law', 'lognormal')\n"
   ]
  },
  {
   "cell_type": "markdown",
   "metadata": {},
   "source": [
    "This does not fit a power law distribution ,as there is no linearity between the rank and the frequency in the data. The Kolomogorov distance between the distribution and divergence is minimal."
   ]
  },
  {
   "cell_type": "code",
   "execution_count": null,
   "metadata": {
    "collapsed": true
   },
   "outputs": [],
   "source": []
  }
 ],
 "metadata": {
  "kernelspec": {
   "display_name": "Python 3",
   "language": "python",
   "name": "python3"
  },
  "language_info": {
   "codemirror_mode": {
    "name": "ipython",
    "version": 3
   },
   "file_extension": ".py",
   "mimetype": "text/x-python",
   "name": "python",
   "nbconvert_exporter": "python",
   "pygments_lexer": "ipython3",
   "version": "3.6.1"
  }
 },
 "nbformat": 4,
 "nbformat_minor": 2
}
